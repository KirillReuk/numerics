{
 "cells": [
  {
   "cell_type": "code",
   "execution_count": 1,
   "metadata": {},
   "outputs": [],
   "source": [
    "import math\n",
    "import numpy as np\n",
    "\n",
    "T = 10\n",
    "h_base = math.pi / 5\n",
    "tau_base = 0.25\n",
    "\n",
    "def g(x,t):\n",
    "    return math.sin(x) + 2*t/(t*t+1)\n",
    "g = np.vectorize(g)\n",
    "\n",
    "def u0(x):\n",
    "    return math.sin(x)\n",
    "\n",
    "def mu(t):\n",
    "    return math.log(t*t+1)\n",
    "\n",
    "def u_exact(x,t):\n",
    "    return math.sin(x) + math.log(t*t+1)\n",
    "u_exact = np.vectorize(u_exact)\n",
    "\n",
    "def get_x(i,h):\n",
    "    return i*h\n",
    "get_x = np.vectorize(get_x)\n",
    "    \n",
    "def get_t(j,tau):\n",
    "    return j*tau\n",
    "get_t = np.vectorize(get_t)"
   ]
  }
 ],
 "metadata": {
  "kernelspec": {
   "display_name": "Python 3",
   "language": "python",
   "name": "python3"
  },
  "language_info": {
   "codemirror_mode": {
    "name": "ipython",
    "version": 3
   },
   "file_extension": ".py",
   "mimetype": "text/x-python",
   "name": "python",
   "nbconvert_exporter": "python",
   "pygments_lexer": "ipython3",
   "version": "3.6.4"
  }
 },
 "nbformat": 4,
 "nbformat_minor": 2
}
