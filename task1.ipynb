{
 "cells": [
  {
   "cell_type": "code",
   "execution_count": null,
   "metadata": {},
   "outputs": [],
   "source": [
    "# пространство\n",
    "h = math.pi\n",
    "h_step = math.pi / 5  \n",
    "\n",
    "# время\n",
    "t = 10\n",
    "t_step = 0.25"
   ]
  },
  {
   "cell_type": "code",
   "execution_count": 3,
   "metadata": {},
   "outputs": [],
   "source": [
    "# базовые функции\n",
    "import math\n",
    "import numpy as np\n",
    "\n",
    "def g(x, t):\n",
    "    return np.vectorize(math.sin(x) + 2 * t / (t * t + 1))\n",
    "\n",
    "def upper_init(x):\n",
    "    return math.sin(x)\n",
    "\n",
    "def side_init(t):\n",
    "    return math.log(t * t + 1)\n",
    "\n",
    "def u_exact(x, t):\n",
    "    return np.vectorize(math.sin(x) + math.log(t * t + 1))\n",
    "\n",
    "def get_x(i, h):\n",
    "    return np.vectorize(i * h)\n",
    "    \n",
    "def get_t(j, tau):\n",
    "    return j * tau"
   ]
  },
  {
   "cell_type": "code",
   "execution_count": 2,
   "metadata": {},
   "outputs": [],
   "source": [
    "# инит, филл\n",
    "class FiniteDifferenceMethod:\n",
    "    def __init__(self, h, tau):\n",
    "        self.h = h\n",
    "        self.tau = tau\n",
    "        hn = int(round(l / h)) + 1      #количество шагов по пространству\n",
    "        tn = int(round(T / tau)) + 1    #количество шагов по времени\n",
    "        self.grid = np.zeros((xn, tn))\n",
    "        self.fill()\n",
    "        \n",
    "    def fill(self):\n",
    "        tau = self.tau\n",
    "        h = self.h\n",
    "        u = self.grid\n",
    "        N, M = u.shape\n",
    "        \n",
    "        # начальные условия\n",
    "        for i in range(0, N):\n",
    "            x = i * h\n",
    "            u[i, 0] = upper_init(x)\n",
    "            \n",
    "        # граничные условия\n",
    "        for j in range(0, M):\n",
    "            t = j * tau\n",
    "            u[0, j] = side_init(t)\n",
    "            u[N - 1, j] = side_init(t)"
   ]
  }
 ],
 "metadata": {
  "kernelspec": {
   "display_name": "Python 3",
   "language": "python",
   "name": "python3"
  },
  "language_info": {
   "codemirror_mode": {
    "name": "ipython",
    "version": 3
   },
   "file_extension": ".py",
   "mimetype": "text/x-python",
   "name": "python",
   "nbconvert_exporter": "python",
   "pygments_lexer": "ipython3",
   "version": "3.6.4"
  }
 },
 "nbformat": 4,
 "nbformat_minor": 2
}
